{
 "cells": [
  {
   "cell_type": "code",
   "execution_count": 1,
   "id": "4df1b473-1a71-41d6-b5d4-9ca1b3d019ca",
   "metadata": {},
   "outputs": [
    {
     "name": "stderr",
     "output_type": "stream",
     "text": [
      "24/12/09 22:48:38 WARN Utils: Your hostname, minas-ithil resolves to a loopback address: 127.0.1.1; using 10.255.255.254 instead (on interface lo)\n",
      "24/12/09 22:48:38 WARN Utils: Set SPARK_LOCAL_IP if you need to bind to another address\n",
      "Setting default log level to \"WARN\".\n",
      "To adjust logging level use sc.setLogLevel(newLevel). For SparkR, use setLogLevel(newLevel).\n",
      "24/12/09 22:48:39 WARN NativeCodeLoader: Unable to load native-hadoop library for your platform... using builtin-java classes where applicable\n",
      "                                                                                "
     ]
    }
   ],
   "source": [
    "from pyspark.sql import SparkSession\n",
    "from pyspark.sql.types import IntegerType, StringType\n",
    "import pyspark.sql.functions as F\n",
    "\n",
    "# Initialize Spark Session\n",
    "spark = SparkSession.builder.getOrCreate()\n",
    "filename = \"data.everef.net/market-orders/history/2023/2023-01-01/market-orders-2023-01-01_00-15-03.v3.csv.bz2\"\n",
    "df = spark.read.option(\"compression\", \"bzip2\") \\\n",
    "               .option(\"header\", \"true\") \\\n",
    "               .option(\"inferSchema\", \"true\") \\\n",
    "               .csv(filename)\n"
   ]
  },
  {
   "cell_type": "code",
   "execution_count": 2,
   "id": "ea7eeb12-444c-41c0-8208-f9320cb97ca4",
   "metadata": {},
   "outputs": [],
   "source": [
    "sells = df.alias(\"sell\").where(F.col(\"is_buy_order\") == False)\n",
    "buys = df.alias(\"buy\").where(F.col(\"is_buy_order\") == True)\n",
    "\n",
    "arbs = sells.crossJoin(buys)\\\n",
    ".where(\"sell.type_id = buy.type_id\")\\\n",
    ".where(\"sell.price < buy.price\")\\\n",
    ".where(\"sell.volume_remain > buy.min_volume\")"
   ]
  },
  {
   "cell_type": "code",
   "execution_count": 3,
   "id": "95a1debd-9a5a-49db-8809-ed62e10077b0",
   "metadata": {},
   "outputs": [
    {
     "name": "stderr",
     "output_type": "stream",
     "text": [
      "24/12/09 22:48:49 WARN SparkStringUtils: Truncated the string representation of a plan since it was too large. This behavior can be adjusted by setting 'spark.sql.debug.maxToStringFields'.\n",
      "24/12/09 22:48:51 WARN GarbageCollectionMetrics: To enable non-built-in garbage collector(s) List(G1 Concurrent GC), users should configure it(them) to spark.eventLog.gcMetrics.youngGenerationGarbageCollectors or spark.eventLog.gcMetrics.oldGenerationGarbageCollectors\n",
      "[Stage 2:===============================================>           (4 + 1) / 5]"
     ]
    },
    {
     "name": "stdout",
     "output_type": "stream",
     "text": [
      "+--------+------------+-------------------+-----------+----------+----------+-----+------+---------+-------+-------------+------------+---------+-------------------+----------+----------------+-----------+--------+------------+-------------------+-----------+----------+----------+-----+-----------+---------+-------+-------------+------------+---------+-------------------+----------+----------------+-----------+\n",
      "|duration|is_buy_order|             issued|location_id|min_volume|  order_id|price| range|system_id|type_id|volume_remain|volume_total|region_id| http_last_modified|station_id|constellation_id|universe_id|duration|is_buy_order|             issued|location_id|min_volume|  order_id|price|      range|system_id|type_id|volume_remain|volume_total|region_id| http_last_modified|station_id|constellation_id|universe_id|\n",
      "+--------+------------+-------------------+-----------+----------+----------+-----+------+---------+-------+-------------+------------+---------+-------------------+----------+----------------+-----------+--------+------------+-------------------+-----------+----------+----------+-----+-----------+---------+-------+-------------+------------+---------+-------------------+----------+----------------+-----------+\n",
      "|      90|       false|2022-12-23 12:33:07|   60012124|         1|6403786171|  5.0|region| 30000005|     34|      5560996|     5560996| 10000001|2022-12-31 19:11:40|  60012124|        20000001|        eve|      14|        true|2022-12-26 06:31:23|   60002350|         1|6405737890| 5.15|    station| 30001438|     34|        17192|       17192| 10000016|2022-12-31 19:15:11|  60002350|        20000211|        eve|\n",
      "|      90|       false|2022-12-23 12:33:07|   60012124|         1|6403786171|  5.0|region| 30000005|     34|      5560996|     5560996| 10000001|2022-12-31 19:11:40|  60012124|        20000001|        eve|      90|        true|2022-12-29 09:55:36|   60012610|    100000|6407826170|  8.0|    station| 30005008|     34|      1000000|     1000000| 10000064|2022-12-31 19:16:04|  60012610|        20000732|        eve|\n",
      "|      90|       false|2022-10-09 11:16:17|   60013867|         1|6351997840| 3.41|region| 30000019|     34|     14478589|    59294713| 10000001|2022-12-31 19:11:40|  60013867|        20000003|        eve|      90|        true|2022-12-22 15:24:36|   60012124|         1|6403170384| 3.91|    station| 30000005|     34|     29918411|    30000000| 10000001|2022-12-31 19:11:40|  60012124|        20000001|        eve|\n",
      "|      90|       false|2022-10-09 11:16:17|   60013867|         1|6351997840| 3.41|region| 30000019|     34|     14478589|    59294713| 10000001|2022-12-31 19:11:40|  60013867|        20000003|        eve|      90|        true|2022-12-22 15:02:11|   60012529|         1|6399594704| 3.91|    station| 30000056|     34|      5586108|    10000000| 10000001|2022-12-31 19:11:40|  60012529|        20000008|        eve|\n",
      "|      90|       false|2022-10-09 11:16:17|   60013867|         1|6351997840| 3.41|region| 30000019|     34|     14478589|    59294713| 10000001|2022-12-31 19:11:40|  60013867|        20000003|        eve|      90|        true|2022-12-27 02:28:44|   60004228|         1|6401932666| 4.15|solarsystem| 30000129|     34|     18959992|    50000000| 10000002|2022-12-31 19:12:45|  60004228|        20000018|        eve|\n",
      "|      90|       false|2022-10-09 11:16:17|   60013867|         1|6351997840| 3.41|region| 30000019|     34|     14478589|    59294713| 10000001|2022-12-31 19:11:40|  60013867|        20000003|        eve|      90|        true|2022-12-24 12:24:29|   60004237|         1|6404550438| 4.11|    station| 30000129|     34|       228887|      300000| 10000002|2022-12-31 19:12:45|  60004237|        20000018|        eve|\n",
      "|      90|       false|2022-10-09 11:16:17|   60013867|         1|6351997840| 3.41|region| 30000019|     34|     14478589|    59294713| 10000001|2022-12-31 19:11:40|  60013867|        20000003|        eve|      90|        true|2022-12-31 12:55:56|   60004228|         1|6409686295| 4.15|solarsystem| 30000129|     34|     50000000|    50000000| 10000002|2022-12-31 19:12:45|  60004228|        20000018|        eve|\n",
      "|      90|       false|2022-10-09 11:16:17|   60013867|         1|6351997840| 3.41|region| 30000019|     34|     14478589|    59294713| 10000001|2022-12-31 19:11:40|  60013867|        20000003|        eve|      90|        true|2022-12-13 00:23:16|   60004369|         1|6396076930|  4.0|solarsystem| 30000136|     34|     79679309|   100000000| 10000002|2022-12-31 19:12:45|  60004369|        20000019|        eve|\n",
      "|      90|       false|2022-10-09 11:16:17|   60013867|         1|6351997840| 3.41|region| 30000019|     34|     14478589|    59294713| 10000001|2022-12-31 19:11:40|  60013867|        20000003|        eve|      90|        true|2022-11-09 14:47:41|   60000448|         1|6357697541| 3.56|          1| 30000139|     34|     19305391|    50000000| 10000002|2022-12-31 19:12:45|  60000448|        20000020|        eve|\n",
      "|      90|       false|2022-10-09 11:16:17|   60013867|         1|6351997840| 3.41|region| 30000019|     34|     14478589|    59294713| 10000001|2022-12-31 19:11:40|  60013867|        20000003|        eve|      90|        true|2022-11-08 09:00:29|   60014659|         1|6370331327|  3.6|    station| 30000141|     34|    284150166|   300000000| 10000002|2022-12-31 19:12:45|  60014659|        20000020|        eve|\n",
      "|      90|       false|2022-10-09 11:16:17|   60013867|         1|6351997840| 3.41|region| 30000019|     34|     14478589|    59294713| 10000001|2022-12-31 19:11:40|  60013867|        20000003|        eve|      90|        true|2022-11-04 18:49:43|   60003760|         1|6367822234| 3.51|    station| 30000142|     34|    446409219|  1000000000| 10000002|2022-12-31 19:12:45|  60003760|        20000020|        eve|\n",
      "|      90|       false|2022-10-09 11:16:17|   60013867|         1|6351997840| 3.41|region| 30000019|     34|     14478589|    59294713| 10000001|2022-12-31 19:11:40|  60013867|        20000003|        eve|      90|        true|2022-11-09 20:25:27|   60003760|         1|6369687334| 3.88|    station| 30000142|     34|      5000000|     5000000| 10000002|2022-12-31 19:12:45|  60003760|        20000020|        eve|\n",
      "|      90|       false|2022-10-09 11:16:17|   60013867|         1|6351997840| 3.41|region| 30000019|     34|     14478589|    59294713| 10000001|2022-12-31 19:11:40|  60013867|        20000003|        eve|      90|        true|2022-11-09 05:04:41|   60003760|         1|6370660581| 3.57|    station| 30000142|     34|      8918080|   100000000| 10000002|2022-12-31 19:12:45|  60003760|        20000020|        eve|\n",
      "|      90|       false|2022-10-09 11:16:17|   60013867|         1|6351997840| 3.41|region| 30000019|     34|     14478589|    59294713| 10000001|2022-12-31 19:11:40|  60013867|        20000003|        eve|      90|        true|2022-11-08 20:37:38|   60003760|     10000|6370756509| 3.54|    station| 30000142|     34|     13719751|   100000000| 10000002|2022-12-31 19:12:45|  60003760|        20000020|        eve|\n",
      "|      90|       false|2022-10-09 11:16:17|   60013867|         1|6351997840| 3.41|region| 30000019|     34|     14478589|    59294713| 10000001|2022-12-31 19:11:40|  60013867|        20000003|        eve|      90|        true|2022-11-12 07:57:36|   60003760|         1|6373302874| 3.56|    station| 30000142|     34|    100000000|   100000000| 10000002|2022-12-31 19:12:45|  60003760|        20000020|        eve|\n",
      "|      90|       false|2022-10-09 11:16:17|   60013867|         1|6351997840| 3.41|region| 30000019|     34|     14478589|    59294713| 10000001|2022-12-31 19:11:40|  60013867|        20000003|        eve|      90|        true|2022-11-17 19:16:13|   60003760|         1|6377733867| 3.92|    station| 30000142|     34|     10000000|    10000000| 10000002|2022-12-31 19:12:45|  60003760|        20000020|        eve|\n",
      "|      90|       false|2022-10-09 11:16:17|   60013867|         1|6351997840| 3.41|region| 30000019|     34|     14478589|    59294713| 10000001|2022-12-31 19:11:40|  60013867|        20000003|        eve|      90|        true|2022-11-18 00:21:45|   60003760|         1|6377858441| 3.93|    station| 30000142|     34|     50000000|    50000000| 10000002|2022-12-31 19:12:45|  60003760|        20000020|        eve|\n",
      "|      90|       false|2022-10-09 11:16:17|   60013867|         1|6351997840| 3.41|region| 30000019|     34|     14478589|    59294713| 10000001|2022-12-31 19:11:40|  60013867|        20000003|        eve|      90|        true|2022-11-22 15:36:43|   60003760|         1|6381565164|  4.0|    station| 30000142|     34|     76944421|   250352146| 10000002|2022-12-31 19:12:45|  60003760|        20000020|        eve|\n",
      "|      90|       false|2022-10-09 11:16:17|   60013867|         1|6351997840| 3.41|region| 30000019|     34|     14478589|    59294713| 10000001|2022-12-31 19:11:40|  60013867|        20000003|        eve|      90|        true|2022-11-26 20:40:30|   60003760|         1|6384682783|  4.0|    station| 30000142|     34|   2147483647|  2147483647| 10000002|2022-12-31 19:12:45|  60003760|        20000020|        eve|\n",
      "|      90|       false|2022-10-09 11:16:17|   60013867|         1|6351997840| 3.41|region| 30000019|     34|     14478589|    59294713| 10000001|2022-12-31 19:11:40|  60013867|        20000003|        eve|      90|        true|2022-11-26 20:41:08|   60003760|         1|6384683058|  4.0|    station| 30000142|     34|   2147483647|  2147483647| 10000002|2022-12-31 19:12:45|  60003760|        20000020|        eve|\n",
      "+--------+------------+-------------------+-----------+----------+----------+-----+------+---------+-------+-------------+------------+---------+-------------------+----------+----------------+-----------+--------+------------+-------------------+-----------+----------+----------+-----+-----------+---------+-------+-------------+------------+---------+-------------------+----------+----------------+-----------+\n",
      "only showing top 20 rows\n",
      "\n"
     ]
    },
    {
     "name": "stderr",
     "output_type": "stream",
     "text": [
      "                                                                                "
     ]
    }
   ],
   "source": [
    "arbs.show()"
   ]
  },
  {
   "cell_type": "code",
   "execution_count": 4,
   "id": "fcdeed00-f19d-43ce-a6c1-0d860efe036b",
   "metadata": {},
   "outputs": [
    {
     "name": "stderr",
     "output_type": "stream",
     "text": [
      "                                                                                "
     ]
    },
    {
     "data": {
      "text/plain": [
       "[Row(duration=90, is_buy_order=False, issued=datetime.datetime(2022, 12, 23, 12, 33, 7), location_id=60012124, min_volume=1, order_id=6403786171, price=5.0, range='region', system_id=30000005, type_id=34, volume_remain=5560996, volume_total=5560996, region_id=10000001, http_last_modified=datetime.datetime(2022, 12, 31, 19, 11, 40), station_id=60012124, constellation_id=20000001, universe_id='eve', duration=14, is_buy_order=True, issued=datetime.datetime(2022, 12, 26, 6, 31, 23), location_id=60002350, min_volume=1, order_id=6405737890, price=5.15, range='station', system_id=30001438, type_id=34, volume_remain=17192, volume_total=17192, region_id=10000016, http_last_modified=datetime.datetime(2022, 12, 31, 19, 15, 11), station_id=60002350, constellation_id=20000211, universe_id='eve')]"
      ]
     },
     "execution_count": 4,
     "metadata": {},
     "output_type": "execute_result"
    }
   ],
   "source": [
    "arbs.take(1)"
   ]
  },
  {
   "cell_type": "code",
   "execution_count": 5,
   "id": "1f4b418c-2c9e-478d-b3d0-060e715801e3",
   "metadata": {},
   "outputs": [],
   "source": [
    "import networkx as nx\n",
    "import csv\n",
    "\n",
    "with open(\"mapSolarSystemJumps.csv\") as f:\n",
    "    route_reader = csv.DictReader(f)\n",
    "\n",
    "    G = nx.Graph()\n",
    "\n",
    "    for row in route_reader:\n",
    "        G.add_edge(int(row[\"fromSolarSystemID\"]), int(row[\"toSolarSystemID\"]))"
   ]
  },
  {
   "cell_type": "code",
   "execution_count": 6,
   "id": "2364da57-7555-4a00-9f0d-aef08fc39118",
   "metadata": {},
   "outputs": [],
   "source": [
    "@F.udf(returnType=IntegerType())\n",
    "def get_distance(system_id1, system_id2):\n",
    "    try:\n",
    "        return len(nx.shortest_path(G, system_id1, system_id2))\n",
    "    except (nx.exception.NodeNotFound, nx.exception.NetworkXNoPath):\n",
    "        return -1"
   ]
  },
  {
   "cell_type": "code",
   "execution_count": 7,
   "id": "4ccabab3-26f9-4028-8aa7-4c7e186b83f0",
   "metadata": {},
   "outputs": [],
   "source": [
    "with_distances = arbs\\\n",
    ".withColumn(\"distance\", get_distance(\"sell.system_id\",\"buy.system_id\"))\\\n",
    ".where(\"distance != -1\")\\\n",
    ".cache()"
   ]
  },
  {
   "cell_type": "code",
   "execution_count": 8,
   "id": "34d0aa56-b869-4318-bc57-49a97d6ac3c9",
   "metadata": {},
   "outputs": [
    {
     "name": "stderr",
     "output_type": "stream",
     "text": [
      "                                                                                "
     ]
    },
    {
     "data": {
      "text/plain": [
       "[Row(duration=90, is_buy_order=False, issued=datetime.datetime(2022, 11, 22, 16, 42, 7), location_id=60014632, min_volume=1, order_id=6330898561, price=148.0, range='region', system_id=30003522, type_id=1824, volume_remain=145000, volume_total=250000, region_id=10000043, http_last_modified=datetime.datetime(2022, 12, 31, 19, 13, 37), station_id=60014632, constellation_id=20000514, universe_id='eve', duration=90, is_buy_order=True, issued=datetime.datetime(2022, 12, 31, 17, 50, 17), location_id=60008494, min_volume=1, order_id=6405747894, price=3028.0, range='station', system_id=30002187, type_id=1824, volume_remain=75752, volume_total=100000, region_id=10000043, http_last_modified=datetime.datetime(2022, 12, 31, 19, 13, 37), station_id=60008494, constellation_id=20000322, universe_id='eve', distance=2, available_volume=75752, executed_volume=75752.0, profit=218165760.0, return_per_jump=245.08387386257274),\n",
       " Row(duration=7, is_buy_order=False, issued=datetime.datetime(2022, 12, 30, 14, 34, 36), location_id=60006658, min_volume=1, order_id=6408981214, price=148.0, range='region', system_id=30003563, type_id=1824, volume_remain=77800, volume_total=77800, region_id=10000043, http_last_modified=datetime.datetime(2022, 12, 31, 19, 13, 37), station_id=60006658, constellation_id=20000519, universe_id='eve', duration=90, is_buy_order=True, issued=datetime.datetime(2022, 12, 31, 17, 50, 17), location_id=60008494, min_volume=1, order_id=6405747894, price=3028.0, range='station', system_id=30002187, type_id=1824, volume_remain=75752, volume_total=100000, region_id=10000043, http_last_modified=datetime.datetime(2022, 12, 31, 19, 13, 37), station_id=60008494, constellation_id=20000322, universe_id='eve', distance=11, available_volume=75752, executed_volume=75752.0, profit=218165760.0, return_per_jump=25.257714892206874)]"
      ]
     },
     "execution_count": 8,
     "metadata": {},
     "output_type": "execute_result"
    }
   ],
   "source": [
    "wallet = 20_000_000\n",
    "\n",
    "profits = with_distances\\\n",
    ".withColumn(\"available_volume\", F.least(F.col(\"sell.volume_remain\"), F.col(\"buy.volume_remain\")))\\\n",
    ".withColumn(\"executed_volume\", F.least(F.lit(wallet)/F.col(\"sell.price\"), \"available_volume\"))\\\n",
    ".withColumn(\"profit\", F.expr(\"(buy.price - sell.price) * executed_volume\"))\n",
    "\n",
    "profits.select(\"executed_volume\", \"profit\").take(1)\n",
    "\n",
    "returns = profits\\\n",
    ".withColumn(\"return_per_jump\", 100*((1 + F.col(\"profit\")/F.lit(wallet))**(1/F.col(\"distance\")) - 1))\\\n",
    ".sort(F.desc(\"return_per_jump\"))\n",
    "returns.take(2)"
   ]
  },
  {
   "cell_type": "code",
   "execution_count": 9,
   "id": "844971b6-7b0e-4935-a882-24114f1e47b4",
   "metadata": {},
   "outputs": [
    {
     "data": {
      "text/plain": [
       "[Row(duration=90, is_buy_order=False, issued=datetime.datetime(2022, 12, 13, 1, 48, 12), location_id=60010825, min_volume=1, order_id=6396104496, price=350.0, range='region', system_id=30004504, type_id=2679, volume_remain=13141, volume_total=173141, region_id=10000057, http_last_modified=datetime.datetime(2022, 12, 31, 19, 13, 3), station_id=60010825, constellation_id=20000657, universe_id='eve', duration=90, is_buy_order=True, issued=datetime.datetime(2022, 12, 31, 12, 23, 11), location_id=60010831, min_volume=1, order_id=6409667480, price=700.0, range='station', system_id=30004504, type_id=2679, volume_remain=50000, volume_total=50000, region_id=10000057, http_last_modified=datetime.datetime(2022, 12, 31, 19, 13, 3), station_id=60010831, constellation_id=20000657, universe_id='eve', distance=1, available_volume=13141, executed_volume=13141.0, profit=4599350.0, return_per_jump=22.996749999999988),\n",
       " Row(duration=365, is_buy_order=False, issued=datetime.datetime(2022, 12, 31, 17, 50, 23), location_id=60013066, min_volume=1, order_id=911474013, price=705.0, range='region', system_id=30001038, type_id=3721, volume_remain=340847, volume_total=340847, region_id=10000012, http_last_modified=datetime.datetime(2022, 12, 31, 19, 11, 14), station_id=60013066, constellation_id=20000152, universe_id='eve', duration=365, is_buy_order=True, issued=datetime.datetime(2022, 12, 31, 17, 50, 23), location_id=60012841, min_volume=1, order_id=911468202, price=834.75, range='station', system_id=30001038, type_id=3721, volume_remain=344633, volume_total=344633, region_id=10000012, http_last_modified=datetime.datetime(2022, 12, 31, 19, 11, 14), station_id=60012841, constellation_id=20000152, universe_id='eve', distance=1, available_volume=340847, executed_volume=28368.794326241135, profit=3680851.0638297875, return_per_jump=18.40425531914893),\n",
       " Row(duration=365, is_buy_order=False, issued=datetime.datetime(2022, 12, 31, 16, 41, 34), location_id=60013072, min_volume=1, order_id=911474015, price=706.28, range='region', system_id=30004621, type_id=3721, volume_remain=340847, volume_total=340847, region_id=10000058, http_last_modified=datetime.datetime(2022, 12, 31, 19, 14, 34), station_id=60013072, constellation_id=20000674, universe_id='eve', duration=365, is_buy_order=True, issued=datetime.datetime(2022, 12, 31, 16, 41, 34), location_id=60012865, min_volume=1, order_id=911468210, price=833.41, range='station', system_id=30004621, type_id=3721, volume_remain=344633, volume_total=344633, region_id=10000058, http_last_modified=datetime.datetime(2022, 12, 31, 19, 14, 34), station_id=60012865, constellation_id=20000674, universe_id='eve', distance=1, available_volume=340847, executed_volume=28317.38120858583, profit=3599988.6730475165, return_per_jump=17.99994336523758),\n",
       " Row(duration=365, is_buy_order=False, issued=datetime.datetime(2022, 12, 31, 18, 59, 1), location_id=60003127, min_volume=1, order_id=911248614, price=314.89, range='region', system_id=30001401, type_id=43, volume_remain=58825, volume_total=58825, region_id=10000016, http_last_modified=datetime.datetime(2022, 12, 31, 19, 15, 11), station_id=60003127, constellation_id=20000205, universe_id='eve', duration=365, is_buy_order=True, issued=datetime.datetime(2022, 12, 31, 18, 59, 1), location_id=60000262, min_volume=1, order_id=911191170, price=361.3, range='station', system_id=30001401, type_id=43, volume_remain=59656, volume_total=59656, region_id=10000016, http_last_modified=datetime.datetime(2022, 12, 31, 19, 15, 11), station_id=60000262, constellation_id=20000205, universe_id='eve', distance=1, available_volume=58825, executed_volume=58825.0, profit=2730068.2500000014, return_per_jump=13.650341249999997),\n",
       " Row(duration=365, is_buy_order=False, issued=datetime.datetime(2022, 12, 31, 18, 59, 1), location_id=60003127, min_volume=1, order_id=911248614, price=314.89, range='region', system_id=30001401, type_id=43, volume_remain=58825, volume_total=58825, region_id=10000016, http_last_modified=datetime.datetime(2022, 12, 31, 19, 15, 11), station_id=60003127, constellation_id=20000205, universe_id='eve', duration=365, is_buy_order=True, issued=datetime.datetime(2022, 12, 31, 18, 59, 1), location_id=60000268, min_volume=1, order_id=911191172, price=358.51, range='station', system_id=30001401, type_id=43, volume_remain=59656, volume_total=59656, region_id=10000016, http_last_modified=datetime.datetime(2022, 12, 31, 19, 15, 11), station_id=60000268, constellation_id=20000205, universe_id='eve', distance=1, available_volume=58825, executed_volume=58825.0, profit=2565946.5000000005, return_per_jump=12.829732500000013)]"
      ]
     },
     "execution_count": 9,
     "metadata": {},
     "output_type": "execute_result"
    }
   ],
   "source": [
    "returns.where(\"distance = 1\").take(5)"
   ]
  },
  {
   "cell_type": "code",
   "execution_count": 12,
   "id": "71744d56-5223-4f41-bb1e-ffe0576b229f",
   "metadata": {},
   "outputs": [],
   "source": [
    "with open(\"invTypes.csv\") as f:\n",
    "    inv_types = csv.DictReader(f)\n",
    "\n",
    "    type_id_to_name = {}\n",
    "\n",
    "    for row in inv_types:\n",
    "        type_id_to_name[row[\"typeID\"]] = row[\"typeName\"]"
   ]
  },
  {
   "cell_type": "code",
   "execution_count": 23,
   "id": "b5be5122-ab47-41a0-bdc7-c500c2b8a30b",
   "metadata": {},
   "outputs": [],
   "source": [
    "best_volume = returns.groupBy(\"sell.type_id\")\\\n",
    ".sum(\"available_volume\")\\\n",
    ".sort(F.desc(\"sum(available_volume)\"))\\\n",
    ".limit(10)\\\n",
    ".collect()"
   ]
  },
  {
   "cell_type": "code",
   "execution_count": 26,
   "id": "e9b08fe5-32b4-4f77-8df4-c9d3787e3d8d",
   "metadata": {},
   "outputs": [
    {
     "data": {
      "text/plain": [
       "[('Tritanium', 478817387999),\n",
       " ('Pyerite', 86592861549),\n",
       " ('Heavy Water', 1917980054),\n",
       " ('Mexallon', 1513770852),\n",
       " ('Tobacco', 1485866612),\n",
       " ('Antibiotics', 950118498),\n",
       " ('Liquid Ozone', 947667179),\n",
       " ('Quafe', 947450595),\n",
       " ('Electronic Parts', 909353166),\n",
       " ('Compressed Veldspar', 811322405)]"
      ]
     },
     "execution_count": 26,
     "metadata": {},
     "output_type": "execute_result"
    }
   ],
   "source": [
    "[(type_id_to_name[str(row[\"type_id\"])], row[\"sum(available_volume)\"]) for row in best_volume]"
   ]
  },
  {
   "cell_type": "code",
   "execution_count": 27,
   "id": "dd0c4ef4-eed4-4157-bbf0-6a29d50a1733",
   "metadata": {},
   "outputs": [
    {
     "name": "stderr",
     "output_type": "stream",
     "text": [
      "24/12/09 23:05:02 WARN RowBasedKeyValueBatch: Calling spill() on RowBasedKeyValueBatch. Will not spill but return 0.\n"
     ]
    }
   ],
   "source": [
    "most_profit = best_volume = returns.groupBy(\"sell.type_id\")\\\n",
    ".agg(F.sum(F.expr(\"(buy.price - sell.price) * available_volume\")).alias(\"profit\"))\\\n",
    ".sort(F.desc(\"profit\"))\\\n",
    ".limit(10)\\\n",
    ".collect()"
   ]
  },
  {
   "cell_type": "code",
   "execution_count": 28,
   "id": "acc9d043-f70b-4090-bd29-ffde9e0e12c9",
   "metadata": {},
   "outputs": [
    {
     "data": {
      "text/plain": [
       "[Row(type_id=34, profit=251979193921.50012),\n",
       " Row(type_id=35, profit=139701409157.43045),\n",
       " Row(type_id=33577, profit=104102325300.0),\n",
       " Row(type_id=3687, profit=85234927643.21068),\n",
       " Row(type_id=16272, profit=70756018468.46977),\n",
       " Row(type_id=43, profit=52584881173.96001),\n",
       " Row(type_id=16273, profit=41484893544.56002),\n",
       " Row(type_id=16275, profit=40870257881.6),\n",
       " Row(type_id=9850, profit=34183763140.04998),\n",
       " Row(type_id=3647, profit=24356005854.930016)]"
      ]
     },
     "execution_count": 28,
     "metadata": {},
     "output_type": "execute_result"
    }
   ],
   "source": [
    "most_profit"
   ]
  },
  {
   "cell_type": "code",
   "execution_count": null,
   "id": "3d1b4ca9-5aa8-4ec0-a2a1-02f97b5642fb",
   "metadata": {},
   "outputs": [],
   "source": [
    "[(type_id_to_name[str(row[\"type_id\"])], row[\"sum(available_volume)\"]) for row in most_profit]"
   ]
  }
 ],
 "metadata": {
  "kernelspec": {
   "display_name": "Python 3 (ipykernel)",
   "language": "python",
   "name": "python3"
  },
  "language_info": {
   "codemirror_mode": {
    "name": "ipython",
    "version": 3
   },
   "file_extension": ".py",
   "mimetype": "text/x-python",
   "name": "python",
   "nbconvert_exporter": "python",
   "pygments_lexer": "ipython3",
   "version": "3.13.0"
  }
 },
 "nbformat": 4,
 "nbformat_minor": 5
}
